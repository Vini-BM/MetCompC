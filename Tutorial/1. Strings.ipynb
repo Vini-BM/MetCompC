{
 "cells": [
  {
   "cell_type": "code",
   "execution_count": 1,
   "id": "d9e2f588",
   "metadata": {},
   "outputs": [
    {
     "data": {
      "text/plain": [
       "Char"
      ]
     },
     "execution_count": 1,
     "metadata": {},
     "output_type": "execute_result"
    }
   ],
   "source": [
    "typeof('a')"
   ]
  },
  {
   "cell_type": "code",
   "execution_count": 2,
   "id": "a148887e",
   "metadata": {},
   "outputs": [
    {
     "data": {
      "text/plain": [
       "String"
      ]
     },
     "execution_count": 2,
     "metadata": {},
     "output_type": "execute_result"
    }
   ],
   "source": [
    "typeof(\"ab\")"
   ]
  },
  {
   "cell_type": "markdown",
   "id": "6979e9ac",
   "metadata": {},
   "source": [
    "### Interpolação"
   ]
  },
  {
   "cell_type": "code",
   "execution_count": 4,
   "id": "397e0d65",
   "metadata": {},
   "outputs": [
    {
     "data": {
      "text/plain": [
       "\"Bob\""
      ]
     },
     "execution_count": 4,
     "metadata": {},
     "output_type": "execute_result"
    }
   ],
   "source": [
    "name = \"Bob\""
   ]
  },
  {
   "cell_type": "code",
   "execution_count": 6,
   "id": "ac8651f9",
   "metadata": {},
   "outputs": [
    {
     "name": "stdout",
     "output_type": "stream",
     "text": [
      "Hello, my name is Bob\n"
     ]
    }
   ],
   "source": [
    "println(\"Hello, my name is $name\") # f em Python"
   ]
  },
  {
   "cell_type": "markdown",
   "id": "32ffd038",
   "metadata": {},
   "source": [
    "### Concatenação"
   ]
  },
  {
   "cell_type": "code",
   "execution_count": 8,
   "id": "990c4aaf",
   "metadata": {},
   "outputs": [
    {
     "data": {
      "text/plain": [
       "\"a5b\""
      ]
     },
     "execution_count": 8,
     "metadata": {},
     "output_type": "execute_result"
    }
   ],
   "source": [
    "string('a',5,'b')"
   ]
  },
  {
   "cell_type": "code",
   "execution_count": 9,
   "id": "1f58a129",
   "metadata": {},
   "outputs": [
    {
     "data": {
      "text/plain": [
       "\"a5bcde\""
      ]
     },
     "execution_count": 9,
     "metadata": {},
     "output_type": "execute_result"
    }
   ],
   "source": [
    "string('a',5,\"bcde\")"
   ]
  },
  {
   "cell_type": "code",
   "execution_count": 10,
   "id": "57117a39",
   "metadata": {},
   "outputs": [
    {
     "data": {
      "text/plain": [
       "\"cd\""
      ]
     },
     "execution_count": 10,
     "metadata": {},
     "output_type": "execute_result"
    }
   ],
   "source": [
    "s1 = \"ab\"\n",
    "s2 = \"cd\""
   ]
  },
  {
   "cell_type": "code",
   "execution_count": 11,
   "id": "f313cef9",
   "metadata": {},
   "outputs": [
    {
     "data": {
      "text/plain": [
       "\"abcd\""
      ]
     },
     "execution_count": 11,
     "metadata": {},
     "output_type": "execute_result"
    }
   ],
   "source": [
    "s1*s2"
   ]
  },
  {
   "cell_type": "code",
   "execution_count": 12,
   "id": "8f638896",
   "metadata": {},
   "outputs": [
    {
     "data": {
      "text/plain": [
       "\"abcd\""
      ]
     },
     "execution_count": 12,
     "metadata": {},
     "output_type": "execute_result"
    }
   ],
   "source": [
    "string(s1,s2)"
   ]
  },
  {
   "cell_type": "markdown",
   "id": "342b7ff7",
   "metadata": {},
   "source": [
    "### Exercícios"
   ]
  },
  {
   "cell_type": "code",
   "execution_count": 14,
   "id": "7d89f0f2",
   "metadata": {},
   "outputs": [
    {
     "name": "stdout",
     "output_type": "stream",
     "text": [
      "hi\n"
     ]
    }
   ],
   "source": [
    "str = \"hi\"\n",
    "println(str)"
   ]
  },
  {
   "cell_type": "code",
   "execution_count": 15,
   "id": "86ef9d98",
   "metadata": {},
   "outputs": [
    {
     "data": {
      "text/plain": [
       "\"hihihihihihihihihihi\""
      ]
     },
     "execution_count": 15,
     "metadata": {},
     "output_type": "execute_result"
    }
   ],
   "source": [
    "repeat(str,10)"
   ]
  },
  {
   "cell_type": "code",
   "execution_count": 17,
   "id": "4ea616b1",
   "metadata": {},
   "outputs": [
    {
     "data": {
      "text/plain": [
       "\"hihihihihihihihihihi\""
      ]
     },
     "execution_count": 17,
     "metadata": {},
     "output_type": "execute_result"
    }
   ],
   "source": [
    "str^10"
   ]
  },
  {
   "cell_type": "code",
   "execution_count": 19,
   "id": "bb800991",
   "metadata": {},
   "outputs": [
    {
     "data": {
      "text/plain": [
       "4"
      ]
     },
     "execution_count": 19,
     "metadata": {},
     "output_type": "execute_result"
    }
   ],
   "source": [
    "a = 3\n",
    "b = 4"
   ]
  },
  {
   "cell_type": "code",
   "execution_count": 22,
   "id": "088dabb9",
   "metadata": {},
   "outputs": [
    {
     "data": {
      "text/plain": [
       "\"3 + 4\""
      ]
     },
     "execution_count": 22,
     "metadata": {},
     "output_type": "execute_result"
    }
   ],
   "source": [
    "c = string(a,\" + \",b)"
   ]
  },
  {
   "cell_type": "code",
   "execution_count": 23,
   "id": "02e4e12a",
   "metadata": {},
   "outputs": [
    {
     "data": {
      "text/plain": [
       "\"7\""
      ]
     },
     "execution_count": 23,
     "metadata": {},
     "output_type": "execute_result"
    }
   ],
   "source": [
    "d = string(a+b)"
   ]
  },
  {
   "cell_type": "code",
   "execution_count": null,
   "id": "32412416",
   "metadata": {},
   "outputs": [],
   "source": []
  }
 ],
 "metadata": {
  "kernelspec": {
   "display_name": "Julia 1.9.3",
   "language": "julia",
   "name": "julia-1.9"
  },
  "language_info": {
   "file_extension": ".jl",
   "mimetype": "application/julia",
   "name": "julia",
   "version": "1.9.3"
  }
 },
 "nbformat": 4,
 "nbformat_minor": 5
}
