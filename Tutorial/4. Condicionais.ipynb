{
 "cells": [
  {
   "cell_type": "markdown",
   "id": "6c4b664e",
   "metadata": {},
   "source": [
    "### if, elseif, else"
   ]
  },
  {
   "cell_type": "code",
   "execution_count": 4,
   "id": "a70767a9",
   "metadata": {},
   "outputs": [
    {
     "data": {
      "text/plain": [
       "53"
      ]
     },
     "execution_count": 4,
     "metadata": {},
     "output_type": "execute_result"
    }
   ],
   "source": [
    "x = 5\n",
    "y = 53"
   ]
  },
  {
   "cell_type": "code",
   "execution_count": 5,
   "id": "052dff9e",
   "metadata": {},
   "outputs": [
    {
     "name": "stdout",
     "output_type": "stream",
     "text": [
      "y>x\n"
     ]
    }
   ],
   "source": [
    "if x > y\n",
    "    println(\"x>y\")\n",
    "elseif x < y\n",
    "    println(\"y>x\")\n",
    "else\n",
    "    println(\"x=y\")\n",
    "end"
   ]
  },
  {
   "cell_type": "markdown",
   "id": "08b4202d",
   "metadata": {},
   "source": [
    "### Operador ternário a ? b : c"
   ]
  },
  {
   "cell_type": "markdown",
   "id": "3fb4e5b7",
   "metadata": {},
   "source": [
    "a ? b : c equivale a \n",
    "\n",
    "if a\n",
    "\n",
    "    b\n",
    "else\n",
    "\n",
    "    c\n",
    "end"
   ]
  },
  {
   "cell_type": "code",
   "execution_count": 11,
   "id": "72791eb4",
   "metadata": {},
   "outputs": [
    {
     "data": {
      "text/plain": [
       "6"
      ]
     },
     "execution_count": 11,
     "metadata": {},
     "output_type": "execute_result"
    }
   ],
   "source": [
    "x = 4\n",
    "y = 6"
   ]
  },
  {
   "cell_type": "code",
   "execution_count": 14,
   "id": "1095f674",
   "metadata": {},
   "outputs": [
    {
     "data": {
      "text/plain": [
       "6"
      ]
     },
     "execution_count": 14,
     "metadata": {},
     "output_type": "execute_result"
    }
   ],
   "source": [
    "(x > y) ? x : y # se x>y, x, se não, y"
   ]
  },
  {
   "cell_type": "markdown",
   "id": "8cea8d08",
   "metadata": {},
   "source": [
    "### Curto circuito com && e ||"
   ]
  },
  {
   "cell_type": "markdown",
   "id": "3e890689",
   "metadata": {},
   "source": [
    "a && b --> and\n",
    "\n",
    "retorna true se ambos a e b são true, e false se qualquer um dos dois seja false"
   ]
  },
  {
   "cell_type": "code",
   "execution_count": 16,
   "id": "3d517503",
   "metadata": {},
   "outputs": [
    {
     "data": {
      "text/plain": [
       "false"
      ]
     },
     "execution_count": 16,
     "metadata": {},
     "output_type": "execute_result"
    }
   ],
   "source": [
    "false && (println(\"teste\"); false)"
   ]
  },
  {
   "cell_type": "code",
   "execution_count": 17,
   "id": "b4dcb070",
   "metadata": {},
   "outputs": [
    {
     "data": {
      "text/plain": [
       "false"
      ]
     },
     "execution_count": 17,
     "metadata": {},
     "output_type": "execute_result"
    }
   ],
   "source": [
    "false && (println(\"teste\"); true)"
   ]
  },
  {
   "cell_type": "code",
   "execution_count": 18,
   "id": "5a8474a7",
   "metadata": {},
   "outputs": [
    {
     "name": "stdout",
     "output_type": "stream",
     "text": [
      "teste\n"
     ]
    },
    {
     "data": {
      "text/plain": [
       "false"
      ]
     },
     "execution_count": 18,
     "metadata": {},
     "output_type": "execute_result"
    }
   ],
   "source": [
    "true && (println(\"teste\"); false)"
   ]
  },
  {
   "cell_type": "code",
   "execution_count": 19,
   "id": "35647742",
   "metadata": {},
   "outputs": [
    {
     "name": "stdout",
     "output_type": "stream",
     "text": [
      "teste\n"
     ]
    },
    {
     "data": {
      "text/plain": [
       "true"
      ]
     },
     "execution_count": 19,
     "metadata": {},
     "output_type": "execute_result"
    }
   ],
   "source": [
    "true && (println(\"teste\"); true)"
   ]
  },
  {
   "cell_type": "code",
   "execution_count": 22,
   "id": "a02dcc11",
   "metadata": {},
   "outputs": [
    {
     "name": "stdout",
     "output_type": "stream",
     "text": [
      "teste\n"
     ]
    }
   ],
   "source": [
    "true && (println(\"teste\")) # segunda expressão não precisa nem ser avaliada"
   ]
  },
  {
   "cell_type": "code",
   "execution_count": 24,
   "id": "a6a96c04",
   "metadata": {},
   "outputs": [
    {
     "ename": "LoadError",
     "evalue": "a não pode ser maior do que 0",
     "output_type": "error",
     "traceback": [
      "a não pode ser maior do que 0",
      "",
      "Stacktrace:",
      " [1] error(s::String)",
      "   @ Base .\\error.jl:35",
      " [2] top-level scope",
      "   @ In[24]:2"
     ]
    }
   ],
   "source": [
    "a = 2\n",
    "(a>0) && error(\"a não pode ser maior do que 0\")"
   ]
  },
  {
   "cell_type": "markdown",
   "id": "39c54356",
   "metadata": {},
   "source": [
    "a || b --> or"
   ]
  },
  {
   "cell_type": "code",
   "execution_count": 26,
   "id": "785491a7",
   "metadata": {},
   "outputs": [
    {
     "data": {
      "text/plain": [
       "true"
      ]
     },
     "execution_count": 26,
     "metadata": {},
     "output_type": "execute_result"
    }
   ],
   "source": [
    "true || true"
   ]
  },
  {
   "cell_type": "code",
   "execution_count": 27,
   "id": "e6349807",
   "metadata": {},
   "outputs": [
    {
     "data": {
      "text/plain": [
       "true"
      ]
     },
     "execution_count": 27,
     "metadata": {},
     "output_type": "execute_result"
    }
   ],
   "source": [
    "true || false"
   ]
  },
  {
   "cell_type": "code",
   "execution_count": 28,
   "id": "4528d6eb",
   "metadata": {},
   "outputs": [
    {
     "data": {
      "text/plain": [
       "false"
      ]
     },
     "execution_count": 28,
     "metadata": {},
     "output_type": "execute_result"
    }
   ],
   "source": [
    "false || false"
   ]
  },
  {
   "cell_type": "code",
   "execution_count": 29,
   "id": "e93db79d",
   "metadata": {},
   "outputs": [
    {
     "data": {
      "text/plain": [
       "true"
      ]
     },
     "execution_count": 29,
     "metadata": {},
     "output_type": "execute_result"
    }
   ],
   "source": [
    "true || println(\"teste\")"
   ]
  },
  {
   "cell_type": "code",
   "execution_count": 30,
   "id": "49a1901b",
   "metadata": {},
   "outputs": [
    {
     "name": "stdout",
     "output_type": "stream",
     "text": [
      "teste\n"
     ]
    }
   ],
   "source": [
    "false || println(\"teste\")"
   ]
  },
  {
   "cell_type": "markdown",
   "id": "64c76ad1",
   "metadata": {},
   "source": [
    "### Exercícios"
   ]
  },
  {
   "cell_type": "code",
   "execution_count": 38,
   "id": "36b0f85b",
   "metadata": {},
   "outputs": [
    {
     "data": {
      "text/plain": [
       "8"
      ]
     },
     "execution_count": 38,
     "metadata": {},
     "output_type": "execute_result"
    }
   ],
   "source": [
    "x = 8"
   ]
  },
  {
   "cell_type": "code",
   "execution_count": 39,
   "id": "666bb0d9",
   "metadata": {},
   "outputs": [
    {
     "data": {
      "text/plain": [
       "8"
      ]
     },
     "execution_count": 39,
     "metadata": {},
     "output_type": "execute_result"
    }
   ],
   "source": [
    "if x % 2 == 0\n",
    "    x\n",
    "else\n",
    "    println(\"odd\")\n",
    "end"
   ]
  },
  {
   "cell_type": "code",
   "execution_count": 40,
   "id": "8128facc",
   "metadata": {},
   "outputs": [
    {
     "data": {
      "text/plain": [
       "8"
      ]
     },
     "execution_count": 40,
     "metadata": {},
     "output_type": "execute_result"
    }
   ],
   "source": [
    "(x % 2 == 0) ? x : println(\"odd\")"
   ]
  },
  {
   "cell_type": "code",
   "execution_count": null,
   "id": "9f7faeb3",
   "metadata": {},
   "outputs": [],
   "source": []
  }
 ],
 "metadata": {
  "kernelspec": {
   "display_name": "Julia 1.9.3",
   "language": "julia",
   "name": "julia-1.9"
  },
  "language_info": {
   "file_extension": ".jl",
   "mimetype": "application/julia",
   "name": "julia",
   "version": "1.9.3"
  }
 },
 "nbformat": 4,
 "nbformat_minor": 5
}
